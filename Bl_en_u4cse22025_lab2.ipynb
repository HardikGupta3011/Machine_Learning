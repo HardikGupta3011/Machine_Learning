{
  "cells": [
    {
      "cell_type": "code",
      "execution_count": null,
      "metadata": {
        "colab": {
          "base_uri": "https://localhost:8080/"
        },
        "id": "7yBklg1cS_4g",
        "outputId": "90b74630-93c3-4eb3-95bb-c6a90701f976"
      },
      "outputs": [
        {
          "name": "stdout",
          "output_type": "stream",
          "text": [
            "Model vector X: [ 1. 55. 18.]\n"
          ]
        }
      ],
      "source": [
        "import pandas as pd\n",
        "import numpy as np\n",
        "\n",
        "# Loading the data\n",
        "file_path = '/content/Lab Session Data.xlsx'\n",
        "xls = pd.ExcelFile(file_path)\n",
        "\n",
        "# Load the \"Purchase data\"\n",
        "purchase_data = pd.read_excel(xls, sheet_name='Purchase data')\n",
        "\n",
        "# Extracting the relevant columns\n",
        "purchase_data_Relevant = purchase_data[['Candies (#)', 'Mangoes (Kg)', 'Milk Packets (#)', 'Payment (Rs)']].dropna()\n",
        "\n",
        "# Separating the features (A) and the target variable (Y)\n",
        "A = purchase_data_Relevant[['Candies (#)', 'Mangoes (Kg)', 'Milk Packets (#)']].values\n",
        "Y = purchase_data_Relevant['Payment (Rs)'].values\n",
        "\n",
        "# Calculating the pseudo-inverse of A\n",
        "A_pseudo_inverse = np.linalg.pinv(A)\n",
        "\n",
        "# Calculating the model vector X\n",
        "X = np.dot(A_pseudo_inverse, Y)\n",
        "\n",
        "# Displaying the model vector\n",
        "print(\"Model vector X:\", X)\n"
      ]
    },
    {
      "cell_type": "code",
      "execution_count": null,
      "metadata": {
        "colab": {
          "base_uri": "https://localhost:8080/"
        },
        "id": "mru8spj4U7w_",
        "outputId": "f041e681-99e7-44be-a15d-1d9d34b3ff3f"
      },
      "outputs": [
        {
          "name": "stdout",
          "output_type": "stream",
          "text": [
            "  Customer  Candies (#)  Mangoes (Kg)  Milk Packets (#)  Payment (Rs) Class\n",
            "0      C_1           20             6                 2           386  RICH\n",
            "1      C_2           16             3                 6           289  RICH\n",
            "2      C_3           27             6                 2           393  RICH\n",
            "4      C_5           24             4                 2           280  RICH\n",
            "6      C_7           15             4                 2           271  RICH\n",
            "7      C_8           18             4                 2           274  RICH\n",
            "3      C_4           19             1                 2           110  POOR\n",
            "5      C_6           22             1                 5           167  POOR\n",
            "8      C_9           21             1                 4           148  POOR\n",
            "9     C_10           16             2                 4           198  POOR\n"
          ]
        }
      ],
      "source": [
        "import pandas as pd\n",
        "import numpy as np\n",
        "\n",
        "# Load the data from the Excel file\n",
        "file_path = '/content/Lab Session Data.xlsx'\n",
        "xls = pd.ExcelFile(file_path)\n",
        "\n",
        "# Load the \"Purchase data\" sheet\n",
        "purchase_data = pd.read_excel(xls, sheet_name='Purchase data')\n",
        "\n",
        "# Extract the relevant columns and drop rows with missing values\n",
        "purchase_data_clean = purchase_data[['Customer', 'Candies (#)', 'Mangoes (Kg)', 'Milk Packets (#)', 'Payment (Rs)']].dropna()\n",
        "\n",
        "# Mark customers as \"RICH\" or \"POOR\"\n",
        "purchase_data_clean['Class'] = np.where(purchase_data_clean['Payment (Rs)'] > 200, 'RICH', 'POOR')\n",
        "\n",
        "# Sort the data by the 'Class' column\n",
        "sorted_data = purchase_data_clean.sort_values(by='Class', ascending=False)\n",
        "\n",
        "# Display the sorted data\n",
        "print(sorted_data)\n"
      ]
    },
    {
      "cell_type": "code",
      "execution_count": null,
      "metadata": {
        "colab": {
          "base_uri": "https://localhost:8080/"
        },
        "id": "axvtSjr0gY9E",
        "outputId": "cd4ca549-2b4a-413a-de33-2ee4951b4435"
      },
      "outputs": [
        {
          "name": "stdout",
          "output_type": "stream",
          "text": [
            "Dimensionality of the vector space: (10, 3)\n",
            "Number of vectors in the vector space: (10, 3)\n",
            "Rank of Matrix A: 3\n",
            "Cost of each product available for sale: [ 1. 55. 18.]\n"
          ]
        }
      ],
      "source": [
        "import pandas as pd\n",
        "import numpy as np\n",
        "\n",
        "#loading the dataset from the file\n",
        "file_path = '/content/Lab Session Data.xlsx'\n",
        "sheet_name = 'Purchase data'\n",
        "data = pd.read_excel(file_path, sheet_name=sheet_name)\n",
        "\n",
        "# Extracting the matrices A and C\n",
        "A = data[['Candies (#)', 'Mangoes (Kg)', 'Milk Packets (#)']].values\n",
        "C = data['Payment (Rs)'].values\n",
        "\n",
        "# Calculate dimensionality of the vector space\n",
        "dimensionality = A.shape\n",
        "\n",
        "num_vectors = A.shape\n",
        "\n",
        "rank_A = np.linalg.matrix_rank(A)\n",
        "\n",
        "A_pseudo_inv = np.linalg.pinv(A)\n",
        "\n",
        "X = A_pseudo_inv.dot(C)\n",
        "\n",
        "print(\"Dimensionality of the vector space:\", dimensionality)\n",
        "print(\"Number of vectors in the vector space:\", num_vectors)\n",
        "print(\"Rank of Matrix A:\", rank_A)\n",
        "print(\"Cost of each product available for sale:\", X)"
      ]
    },
    {
      "cell_type": "code",
      "execution_count": null,
      "metadata": {
        "colab": {
          "base_uri": "https://localhost:8080/"
        },
        "id": "jAc4QvnQgl32",
        "outputId": "8fd02844-2efa-4126-feba-ae08db1c4eb1"
      },
      "outputs": [
        {
          "name": "stdout",
          "output_type": "stream",
          "text": [
            "Mean Price: 1560.663453815261\n",
            "Variance Price: 58732.365352539186\n"
          ]
        }
      ],
      "source": [
        "import pandas as pd\n",
        "import statistics\n",
        "\n",
        "# Load the data\n",
        "file_path = 'Lab Session Data.xlsx'\n",
        "sheet_name = 'IRCTC Stock Price'\n",
        "data = pd.read_excel(file_path, sheet_name=sheet_name)\n",
        "\n",
        "# Extract Price data from column D\n",
        "price_data = data['Price']\n",
        "\n",
        "# Calculate mean and variance\n",
        "mean_price = statistics.mean(price_data)\n",
        "variance_price = statistics.variance(price_data)\n",
        "\n",
        "print(f\"Mean Price: {mean_price}\")\n",
        "print(f\"Variance Price: {variance_price}\")"
      ]
    },
    {
      "cell_type": "code",
      "execution_count": null,
      "metadata": {
        "colab": {
          "base_uri": "https://localhost:8080/"
        },
        "id": "V-NMyzUCgt4m",
        "outputId": "a19c8d7e-c4fe-4546-e780-acfcb20be24d"
      },
      "outputs": [
        {
          "name": "stdout",
          "output_type": "stream",
          "text": [
            "Mean Price on Wednesdays: 1550.706\n"
          ]
        }
      ],
      "source": [
        "import pandas as pd\n",
        "import statistics\n",
        "\n",
        "# Load the data\n",
        "file_path = 'Lab Session Data.xlsx'\n",
        "sheet_name = 'IRCTC Stock Price'\n",
        "data = pd.read_excel(file_path, sheet_name=sheet_name)\n",
        "# Extract Price data and Day column\n",
        "price_data = data['Price']\n",
        "day_column = data['Day']\n",
        "\n",
        "wednesday_data = data[day_column == 'Wed']\n",
        "\n",
        "mean_wednesday_price = statistics.mean(wednesday_data['Price'])\n",
        "print(f\"Mean Price on Wednesdays: {mean_wednesday_price}\")"
      ]
    },
    {
      "cell_type": "code",
      "execution_count": null,
      "metadata": {
        "colab": {
          "base_uri": "https://localhost:8080/"
        },
        "id": "iNvNFAywgxns",
        "outputId": "8097ea50-38fd-46ab-fc01-f879a0406c46"
      },
      "outputs": [
        {
          "name": "stdout",
          "output_type": "stream",
          "text": [
            "Mean Price on Wednesdays: 1698.9526315789474\n"
          ]
        }
      ],
      "source": [
        "import pandas as pd\n",
        "import statistics\n",
        "\n",
        "# Load the data\n",
        "file_path = 'Lab Session Data.xlsx'\n",
        "sheet_name = 'IRCTC Stock Price'\n",
        "data = pd.read_excel(file_path, sheet_name=sheet_name)\n",
        "\n",
        "# Extract Price data and Day column\n",
        "price_data = data['Price']\n",
        "day_column = data['Month']\n",
        "\n",
        "\n",
        "april_data = data[day_column == 'Apr']\n",
        "\n",
        "mean_april_price = statistics.mean(april_data['Price'])\n",
        "print(f\"Mean Price on Wednesdays: {mean_april_price}\")"
      ]
    }
  ],
  "metadata": {
    "colab": {
      "provenance": []
    },
    "kernelspec": {
      "display_name": "Python 3",
      "name": "python3"
    },
    "language_info": {
      "name": "python"
    }
  },
  "nbformat": 4,
  "nbformat_minor": 0
}
